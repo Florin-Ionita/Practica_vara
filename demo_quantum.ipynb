{
 "cells": [
  {
   "cell_type": "code",
   "execution_count": 35,
   "id": "54235def",
   "metadata": {},
   "outputs": [],
   "source": [
    "from qiskit_ibm_runtime import QiskitRuntimeService "
   ]
  },
  {
   "cell_type": "code",
   "execution_count": 36,
   "id": "110fc3d5",
   "metadata": {},
   "outputs": [
    {
     "ename": "AccountAlreadyExistsError",
     "evalue": "'Named account (default-ibm-quantum-platform) already exists. Set overwrite=True to overwrite.'",
     "output_type": "error",
     "traceback": [
      "File \u001b[0;32m~/.local/lib/python3.10/site-packages/qiskit_ibm_runtime/accounts/storage.py:35\u001b[0m, in \u001b[0;36msave_config\u001b[0;34m(filename, name, config, overwrite, set_as_default)\u001b[0m\n\u001b[1;32m     32\u001b[0m     data \u001b[38;5;241m=\u001b[39m json\u001b[38;5;241m.\u001b[39mload(json_in)\n\u001b[1;32m     34\u001b[0m \u001b[38;5;28;01mif\u001b[39;00m data\u001b[38;5;241m.\u001b[39mget(name) \u001b[38;5;129;01mand\u001b[39;00m \u001b[38;5;129;01mnot\u001b[39;00m overwrite:\n\u001b[0;32m---> 35\u001b[0m     \u001b[38;5;28;01mraise\u001b[39;00m AccountAlreadyExistsError(\n\u001b[1;32m     36\u001b[0m         \u001b[38;5;124mf\u001b[39m\u001b[38;5;124m\"\u001b[39m\u001b[38;5;124mNamed account (\u001b[39m\u001b[38;5;132;01m{\u001b[39;00mname\u001b[38;5;132;01m}\u001b[39;00m\u001b[38;5;124m) already exists. \u001b[39m\u001b[38;5;124m\"\u001b[39m \u001b[38;5;124mf\u001b[39m\u001b[38;5;124m\"\u001b[39m\u001b[38;5;124mSet overwrite=True to overwrite.\u001b[39m\u001b[38;5;124m\"\u001b[39m\n\u001b[1;32m     37\u001b[0m     )\n\u001b[1;32m     39\u001b[0m data[name] \u001b[38;5;241m=\u001b[39m config\n\u001b[1;32m     41\u001b[0m \u001b[38;5;66;03m# if set_as_default, but another account is defined as default, user must specify overwrite to change\u001b[39;00m\n\u001b[1;32m     42\u001b[0m \u001b[38;5;66;03m# the default account.\u001b[39;00m\n",
      "\u001b[0;31mAccountAlreadyExistsError\u001b[0m: 'Named account (default-ibm-quantum-platform) already exists. Set overwrite=True to overwrite.'"
     ]
    }
   ],
   "source": [
    "service = QiskitRuntimeService.save_account(\n",
    "    token=\"nuuu e nimic aici\", # IBM Cloud API key.\n",
    "    # Your token is confidential. Do not share your token in public code.\n",
    "    instance=\"PracticaVara\", # Optionally specify the instance to use.\n",
    "    region=\"us-east\", # Optionally set the region to prioritize. Accepted values are 'us-east' or 'eu-de'. This is ignored if the instance is specified.\n",
    "    set_as_default=True, # Optionally set these as your default credentials.\n",
    "  )"
   ]
  },
  {
   "cell_type": "code",
   "execution_count": 37,
   "id": "44e907e5",
   "metadata": {},
   "outputs": [
    {
     "name": "stdout",
     "output_type": "stream",
     "text": [
      "[<IBMBackend('ibm_torino')>, <IBMBackend('ibm_brisbane')>]\n"
     ]
    }
   ],
   "source": [
    "service = QiskitRuntimeService()\n",
    "backends = service.backends(simulator=False)\n",
    "print(backends)\n",
    "backend = backends[0]"
   ]
  },
  {
   "cell_type": "code",
   "execution_count": 67,
   "id": "92889727",
   "metadata": {},
   "outputs": [],
   "source": [
    "import numpy as np\n",
    "from qiskit.circuit.library import efficient_su2\n",
    " \n",
    "circuit = efficient_su2(127, entanglement=\"linear\")\n",
    "circuit.measure_all()\n",
    "# The circuit is parametrized, so we will define the parameter values for execution\n",
    "param_values = np.random.rand(circuit.num_parameters)"
   ]
  },
  {
   "cell_type": "code",
   "execution_count": 68,
   "id": "592785b4",
   "metadata": {},
   "outputs": [
    {
     "name": "stdout",
     "output_type": "stream",
     "text": [
      ">>> Circuit ops (ISA): OrderedDict([('sx', 3488), ('rz', 3036), ('cz', 1296), ('measure', 127), ('barrier', 1)])\n"
     ]
    }
   ],
   "source": [
    "from qiskit.transpiler import generate_preset_pass_manager\n",
    " \n",
    "pm = generate_preset_pass_manager(optimization_level=1, backend=backend)\n",
    "isa_circuit = pm.run(circuit)\n",
    "print(f\">>> Circuit ops (ISA): {isa_circuit.count_ops()}\")"
   ]
  },
  {
   "cell_type": "code",
   "execution_count": 69,
   "id": "4c493858",
   "metadata": {},
   "outputs": [],
   "source": [
    "from qiskit_ibm_runtime import SamplerV2 as Sampler\n",
    " \n",
    "sampler = Sampler(mode=backend)"
   ]
  },
  {
   "cell_type": "code",
   "execution_count": 70,
   "id": "ba37fda5",
   "metadata": {},
   "outputs": [
    {
     "name": "stdout",
     "output_type": "stream",
     "text": [
      ">>> Job ID: d2od715poa4c73c7o6o0\n",
      ">>> Job Status: QUEUED\n"
     ]
    }
   ],
   "source": [
    "job = sampler.run([(isa_circuit, param_values)])\n",
    "print(f\">>> Job ID: {job.job_id()}\")\n",
    "print(f\">>> Job Status: {job.status()}\")"
   ]
  },
  {
   "cell_type": "code",
   "execution_count": null,
   "id": "82f82418",
   "metadata": {},
   "outputs": [
    {
     "name": "stdout",
     "output_type": "stream",
     "text": [
      "First ten results for the 'meas' output register: SamplerPubResult(data=DataBin(meas=BitArray(<shape=(), num_shots=4096, num_bits=127>)), metadata={'circuit_metadata': {}})\n"
     ]
    }
   ],
   "source": [
    "result = job.result()\n",
    " \n",
    "# Get results for the first (and only) PUB\n",
    "pub_result = result[0]\n",
    "print(\n",
    "    f\"First ten results for the 'meas' output register: {pub_result.data.meas.get_bitstrings()[:10]}\"\n",
    ")"
   ]
  },
  {
   "cell_type": "markdown",
   "id": "03cc421e",
   "metadata": {},
   "source": [
    "Varianta cu simulare pe backend simulat\n"
   ]
  },
  {
   "cell_type": "code",
   "execution_count": 15,
   "id": "7a6170a5",
   "metadata": {},
   "outputs": [
    {
     "name": "stdout",
     "output_type": "stream",
     "text": [
      "['11', '01', '00', '11', '01', '00', '10', '11', '00', '11', '00', '11', '11', '00', '10', '00', '00', '11', '00', '00', '00', '01', '11', '00', '10', '11', '00', '00', '00', '01', '10', '00', '00', '11', '00', '11', '11', '11', '00', '00', '00', '11', '01', '00', '11', '00', '11', '00', '00', '00', '00', '11', '00', '00', '11', '00', '00', '00', '00', '00', '11', '11', '00', '01', '11', '11', '11', '00', '11', '00', '11', '00', '00', '00', '00', '00', '00', '11', '00', '00', '11', '11', '11', '10', '01', '00', '11', '00', '10', '11', '11', '11', '11', '11', '11', '00', '11', '11', '00', '11', '01', '00', '11', '11', '11', '00', '00', '00', '00', '00', '10', '11', '11', '11', '11', '00', '00', '11', '00', '00', '00', '11', '10', '10', '10', '00', '00', '11', '11', '00', '11', '10', '10', '01', '01', '11', '00', '10', '01', '11', '00', '00', '00', '00', '11', '00', '00', '11', '11', '11', '00', '11', '00', '11', '11', '11', '11', '10', '11', '11', '00', '00', '10', '11', '00', '11', '11', '10', '00', '00', '00', '00', '00', '00', '00', '00', '11', '00', '00', '11', '11', '11', '00', '11', '00', '00', '11', '00', '00', '11', '11', '00', '11', '00', '11', '11', '00', '11', '11', '11', '11', '00', '00', '11', '11', '11', '11', '11', '11', '11', '11', '11', '00', '11', '11', '00', '00', '11', '11', '11', '11', '11', '11', '11', '00', '11', '11', '11', '11', '00', '11', '00', '01', '01', '11', '11', '00', '00', '10', '00', '00', '10', '00', '00', '00', '00', '11', '11', '00', '11', '00', '01', '01', '00', '00', '11', '00', '11', '01', '00', '11', '11', '00', '11', '11', '00', '00', '00', '11', '00', '00', '11', '00', '00', '00', '00', '00', '11', '00', '10', '11', '00', '00', '11', '11', '11', '00', '00', '00', '11', '00', '00', '00', '00', '11', '00', '11', '11', '01', '11', '00', '11', '01', '00', '11', '11', '11', '11', '11', '00', '00', '11', '00', '11', '01', '00', '11', '10', '01', '11', '10', '11', '00', '11', '10', '11', '11', '11', '00', '11', '11', '11', '01', '11', '00', '00', '11', '11', '11', '00', '00', '00', '00', '00', '11', '01', '01', '00', '01', '11', '10', '00', '00', '10', '11', '00', '11', '11', '11', '11', '11', '00', '00', '00', '00', '00', '00', '11', '11', '00', '00', '11', '11', '01', '11', '11', '11', '11', '11', '10', '10', '11', '11', '10', '11', '10', '11', '00', '00', '11', '11', '11', '00', '01', '00', '00', '01', '00', '00', '00', '00', '01', '00', '10', '11', '00', '00', '11', '11', '00', '11', '01', '11', '00', '11', '11', '00', '11', '10', '00', '11', '11', '11', '11', '11', '11', '11', '00', '11', '11', '01', '00', '00', '11', '11', '01', '00', '11', '11', '01', '01', '11', '01', '00', '11', '11', '00', '00', '01', '10', '11', '11', '00', '00', '00', '00', '01', '11', '00', '11', '11', '00', '11', '11', '11', '11', '11', '11', '11', '00', '00', '00', '00', '11', '01', '11', '00', '00', '11', '11', '01', '00', '11', '11', '00', '11', '00', '11', '00', '11', '00', '00', '11', '00', '10', '11', '00', '00', '00', '00', '11', '00', '11', '11', '00', '00', '11', '11', '11', '11', '11', '00', '11', '00', '11', '00', '00', '00', '00', '10', '00', '11', '11', '11', '00', '11', '00', '00', '00', '00', '00', '10', '11', '00', '10', '00', '00', '11', '10', '10', '00', '00', '11', '11', '11', '10', '01', '00', '00', '01', '11', '11', '00', '11', '11', '00', '00', '11', '11', '00', '11', '00', '00', '00', '00', '11', '00', '00', '00', '01', '11', '00', '11', '11', '00', '00', '00', '01', '00', '11', '00', '11', '11', '11', '00', '11', '00', '00', '11', '01', '00', '00', '00', '10', '10', '00', '10', '11', '11', '11', '11', '11', '00', '11', '00', '00', '10', '11', '00', '00', '01', '11', '11', '11', '10', '10', '11', '00', '00', '01', '10', '11', '00', '11', '11', '11', '11', '11', '00', '01', '00', '00', '11', '00', '10', '11', '11', '01', '00', '00', '11', '00', '00', '11', '00', '11', '00', '11', '00', '11', '11', '11', '00', '11', '00', '00', '00', '11', '11', '11', '11', '11', '11', '11', '00', '00', '11', '01', '11', '11', '11', '00', '11', '00', '00', '10', '00', '11', '00', '10', '01', '10', '11', '00', '11', '11', '00', '00', '00', '00', '11', '11', '00', '11', '11', '11', '01', '11', '00', '10', '11', '00', '11', '11', '11', '10', '00', '00', '01', '01', '00', '10', '01', '11', '00', '00', '00', '00', '11', '01', '00', '11', '11', '11', '00', '00', '00', '11', '01', '00', '11', '10', '11', '11', '11', '11', '00', '11', '11', '00', '00', '11', '01', '00', '00', '00', '11', '11', '11', '11', '00', '00', '00', '00', '11', '00', '01', '00', '11', '11', '11', '00', '00', '00', '10', '00', '11', '01', '10', '01', '10', '11', '10', '00', '00', '01', '00', '11', '00', '00', '00', '11', '11', '01', '00', '00', '00', '11', '11', '01', '11', '01', '00', '11', '01', '00', '11', '00', '11', '00', '00', '00', '00', '11', '11', '11', '00', '01', '00', '11', '11', '10', '10', '11', '10', '00', '00', '00', '00', '00', '11', '00', '11', '10', '11', '01', '11', '11', '11', '00', '11', '11', '11', '11', '00', '11', '00', '01', '00', '01', '01', '11', '11', '11', '11', '11', '11', '11', '10', '00', '00', '11', '11', '00', '11', '00', '11', '00', '11', '00', '11', '00', '10', '00', '00', '00', '00', '11', '10', '11', '00', '11', '00', '10', '11', '01', '11', '11', '00', '01', '11', '00', '00', '00', '11', '11', '11', '00', '00', '00', '11', '11', '00', '00', '00', '11', '00', '00', '00', '01', '00', '00', '11', '10', '11', '11', '11', '11', '00', '00', '00', '11', '00', '00', '10', '11', '11', '11', '11', '11', '11', '01', '11', '00', '10', '00', '00', '00', '11', '00', '10', '11', '11', '11', '11', '11', '10', '00', '11', '11', '10', '11', '11', '11', '11', '11', '11', '11', '00', '01', '00', '11', '11', '00', '00', '00', '11', '11', '11', '11', '01', '00', '11', '11', '00', '00', '00', '00', '11', '11', '00', '00', '11', '10', '00', '01', '00', '00', '01', '00', '00', '10', '11', '11', '11', '00', '00', '11', '11', '10', '11', '11', '00', '11', '00', '11', '11', '10', '11', '10', '00', '11', '00', '00', '00', '11', '11', '11', '11', '11', '11', '11', '11', '00', '00', '10', '00', '10', '10', '11', '01', '00', '01', '11']\n"
     ]
    }
   ],
   "source": [
    "from qiskit_aer import AerSimulator\n",
    "from qiskit.circuit import QuantumCircuit\n",
    "from qiskit.transpiler import generate_preset_pass_manager\n",
    "from qiskit_ibm_runtime import Session, SamplerV2 as Sampler\n",
    " \n",
    "# Bell Circuit\n",
    "qc = QuantumCircuit(2)\n",
    "qc.h(0)\n",
    "qc.cx(0, 1)\n",
    "qc.measure_all()\n",
    " \n",
    "# Run the sampler job locally using AerSimulator.\n",
    "# Session syntax is supported but ignored because local mode doesn't support sessions.\n",
    "aer = AerSimulator.from_backend(backend=backend)\n",
    "pm = generate_preset_pass_manager(backend=aer, optimization_level=1)\n",
    "isa_qc = pm.run(qc)\n",
    "isa_qc = pm.run(qc)\n",
    "sampler = Sampler(mode=aer)\n",
    "result = sampler.run([isa_qc]).result()\n",
    "print(result[0].data.meas.get_bitstrings())"
   ]
  },
  {
   "cell_type": "code",
   "execution_count": 16,
   "id": "898f1ee4",
   "metadata": {},
   "outputs": [
    {
     "ename": "MissingOptionalLibraryError",
     "evalue": "\"The 'tweedledum' library is required to use 'PhaseOracle'. You can install it with 'pip install tweedledum'.\"",
     "output_type": "error",
     "traceback": [
      "\u001b[31m---------------------------------------------------------------------------\u001b[39m",
      "\u001b[31mMissingOptionalLibraryError\u001b[39m               Traceback (most recent call last)",
      "\u001b[36mCell\u001b[39m\u001b[36m \u001b[39m\u001b[32mIn[16]\u001b[39m\u001b[32m, line 10\u001b[39m\n\u001b[32m      3\u001b[39m \u001b[38;5;28;01mfrom\u001b[39;00m\u001b[38;5;250m \u001b[39m\u001b[34;01mqiskit\u001b[39;00m\u001b[34;01m.\u001b[39;00m\u001b[34;01mcircuit\u001b[39;00m\u001b[34;01m.\u001b[39;00m\u001b[34;01mlibrary\u001b[39;00m\u001b[38;5;250m \u001b[39m\u001b[38;5;28;01mimport\u001b[39;00m grover_operator\n\u001b[32m      8\u001b[39m expression = \u001b[33m'\u001b[39m\u001b[33m(w | x) & (~y | z) & (x | y | z)\u001b[39m\u001b[33m'\u001b[39m\n\u001b[32m---> \u001b[39m\u001b[32m10\u001b[39m oracle = \u001b[43mPhaseOracle\u001b[49m\u001b[43m(\u001b[49m\u001b[43mexpression\u001b[49m\u001b[43m)\u001b[49m\n\u001b[32m     11\u001b[39m \u001b[38;5;66;03m# reflection_qubits = [0, 3]\u001b[39;00m\n\u001b[32m     12\u001b[39m state_preparation = QuantumCircuit(\u001b[32m4\u001b[39m)\n",
      "\u001b[36mFile \u001b[39m\u001b[32mc:\\Users\\Admin\\anaconda3\\envs\\qiskit_env\\Lib\\site-packages\\qiskit\\utils\\classtools.py:111\u001b[39m, in \u001b[36m_WrappedMethod.__get__.<locals>.out\u001b[39m\u001b[34m(*args, **kwargs)\u001b[39m\n\u001b[32m    108\u001b[39m \u001b[38;5;129m@functools\u001b[39m.wraps(method)\n\u001b[32m    109\u001b[39m \u001b[38;5;28;01mdef\u001b[39;00m\u001b[38;5;250m \u001b[39m\u001b[34mout\u001b[39m(*args, **kwargs):\n\u001b[32m    110\u001b[39m     \u001b[38;5;28;01mfor\u001b[39;00m callback \u001b[38;5;129;01min\u001b[39;00m \u001b[38;5;28mself\u001b[39m._before:\n\u001b[32m--> \u001b[39m\u001b[32m111\u001b[39m         \u001b[43mcallback\u001b[49m\u001b[43m.\u001b[49m\u001b[34;43m__get__\u001b[39;49m\u001b[43m(\u001b[49m\u001b[43mobj\u001b[49m\u001b[43m,\u001b[49m\u001b[43m \u001b[49m\u001b[43mobjtype\u001b[49m\u001b[43m)\u001b[49m\u001b[43m(\u001b[49m\u001b[43m*\u001b[49m\u001b[43margs\u001b[49m\u001b[43m,\u001b[49m\u001b[43m \u001b[49m\u001b[43m*\u001b[49m\u001b[43m*\u001b[49m\u001b[43mkwargs\u001b[49m\u001b[43m)\u001b[49m\n\u001b[32m    112\u001b[39m     retval = method(*args, **kwargs)\n\u001b[32m    113\u001b[39m     \u001b[38;5;28;01mfor\u001b[39;00m callback \u001b[38;5;129;01min\u001b[39;00m \u001b[38;5;28mself\u001b[39m._after:\n",
      "\u001b[36mFile \u001b[39m\u001b[32mc:\\Users\\Admin\\anaconda3\\envs\\qiskit_env\\Lib\\site-packages\\qiskit\\utils\\lazy_tester.py:41\u001b[39m, in \u001b[36m_RequireNow.__call__\u001b[39m\u001b[34m(self, *_args, **_kwargs)\u001b[39m\n\u001b[32m     40\u001b[39m \u001b[38;5;28;01mdef\u001b[39;00m\u001b[38;5;250m \u001b[39m\u001b[34m__call__\u001b[39m(\u001b[38;5;28mself\u001b[39m, *_args, **_kwargs):\n\u001b[32m---> \u001b[39m\u001b[32m41\u001b[39m     \u001b[38;5;28;43mself\u001b[39;49m\u001b[43m.\u001b[49m\u001b[43m_tester\u001b[49m\u001b[43m.\u001b[49m\u001b[43mrequire_now\u001b[49m\u001b[43m(\u001b[49m\u001b[38;5;28;43mself\u001b[39;49m\u001b[43m.\u001b[49m\u001b[43m_feature\u001b[49m\u001b[43m)\u001b[49m\n",
      "\u001b[36mFile \u001b[39m\u001b[32mc:\\Users\\Admin\\anaconda3\\envs\\qiskit_env\\Lib\\site-packages\\qiskit\\utils\\lazy_tester.py:221\u001b[39m, in \u001b[36mLazyDependencyManager.require_now\u001b[39m\u001b[34m(self, feature)\u001b[39m\n\u001b[32m    219\u001b[39m \u001b[38;5;28;01mif\u001b[39;00m \u001b[38;5;28mself\u001b[39m:\n\u001b[32m    220\u001b[39m     \u001b[38;5;28;01mreturn\u001b[39;00m\n\u001b[32m--> \u001b[39m\u001b[32m221\u001b[39m \u001b[38;5;28;01mraise\u001b[39;00m MissingOptionalLibraryError(\n\u001b[32m    222\u001b[39m     libname=\u001b[38;5;28mself\u001b[39m._name, name=feature, pip_install=\u001b[38;5;28mself\u001b[39m._install, msg=\u001b[38;5;28mself\u001b[39m._msg\n\u001b[32m    223\u001b[39m )\n",
      "\u001b[31mMissingOptionalLibraryError\u001b[39m: \"The 'tweedledum' library is required to use 'PhaseOracle'. You can install it with 'pip install tweedledum'.\""
     ]
    }
   ],
   "source": [
    "\n",
    "from qiskit.visualization import plot_histogram\n",
    "from qiskit.circuit.library.phase_oracle import PhaseOracle\n",
    "from qiskit.circuit.library import grover_operator\n",
    "\n",
    "\n",
    "\n",
    "\n",
    "expression = '(w | x) & (~y | z) & (x | y | z)'\n",
    "\n",
    "oracle = PhaseOracle(expression)\n",
    "# reflection_qubits = [0, 3]\n",
    "state_preparation = QuantumCircuit(4)\n",
    "state_preparation.x(0)  # Apply an X gate to the first qubit to set it to 1\n",
    "grover_op = grover_operator(oracle)\n",
    "grover_op.draw(\"mpl\")\n",
    "# grover_op.num_qubits\n"
   ]
  },
  {
   "cell_type": "code",
   "execution_count": 10,
   "id": "2f49e726",
   "metadata": {},
   "outputs": [
    {
     "name": "stdout",
     "output_type": "stream",
     "text": [
      "Result type: <class 'qiskit_algorithms.amplitude_amplifiers.grover.GroverResult'>\n",
      "\n",
      "Success!\n",
      "Top measurement: 11\n"
     ]
    },
    {
     "name": "stderr",
     "output_type": "stream",
     "text": [
      "/tmp/ipykernel_6854/2912481728.py:23: DeprecationWarning: The class ``qiskit.primitives.sampler.Sampler`` is deprecated as of qiskit 1.2. It will be removed no earlier than 3 months after the release date. All implementations of the `BaseSamplerV1` interface have been deprecated in favor of their V2 counterparts. The V2 alternative for the `Sampler` class is `StatevectorSampler`.\n",
      "  grover = Grover(sampler=Sampler())\n"
     ]
    }
   ],
   "source": [
    "from qiskit import QuantumCircuit\n",
    "from qiskit_algorithms import AmplificationProblem\n",
    "\n",
    "# the state we desire to find is '11'\n",
    "good_state = [\"11\"]\n",
    "\n",
    "# specify the oracle that marks the state '11' as a good solution\n",
    "oracle = QuantumCircuit(2)\n",
    "oracle.cz(0, 1)\n",
    "\n",
    "# define Grover's algorithm\n",
    "problem = AmplificationProblem(oracle, is_good_state=good_state)\n",
    "\n",
    "# now we can have a look at the Grover operator that is used in running the algorithm\n",
    "# (Algorithm circuits are wrapped in a gate to appear in composition as a block\n",
    "# so we have to decompose() the op to see it expanded into \n",
    "problem.grover_operator.decompose().draw(output=\"mpl\")\n",
    "\n",
    "from qiskit_algorithms import Grover\n",
    "from qiskit.primitives import Sampler\n",
    "\n",
    "\n",
    "grover = Grover(sampler=Sampler())\n",
    "result = grover.amplify(problem)\n",
    "print(\"Result type:\", type(result))\n",
    "print()\n",
    "print(\"Success!\" if result.oracle_evaluation else \"Failure!\")\n",
    "print(\"Top measurement:\", result.top_measurement)"
   ]
  },
  {
   "cell_type": "code",
   "execution_count": 62,
   "id": "9dbd8a32",
   "metadata": {},
   "outputs": [
    {
     "name": "stdout",
     "output_type": "stream",
     "text": [
      "Attempting to solve 'tests/test_unit.cnf'...\n",
      "--- Solving: test_unit.cnf ---\n",
      "  Algorithm finished in 0.0113 seconds.\n",
      "  Plotting results...\n"
     ]
    },
    {
     "name": "stderr",
     "output_type": "stream",
     "text": [
      "/tmp/ipykernel_7521/696418221.py:27: DeprecationWarning: The class ``qiskit.primitives.sampler.Sampler`` is deprecated as of qiskit 1.2. It will be removed no earlier than 3 months after the release date. All implementations of the `BaseSamplerV1` interface have been deprecated in favor of their V2 counterparts. The V2 alternative for the `Sampler` class is `StatevectorSampler`.\n",
      "  grover = Grover(sampler=Sampler())\n"
     ]
    },
    {
     "data": {
      "image/png": "[encoded data removed]",
      "text/plain": [
       "<Figure size 640x480 with 1 Axes>"
      ]
     },
     "metadata": {},
     "output_type": "display_data"
    },
    {
     "name": "stdout",
     "output_type": "stream",
     "text": [
      "---------------------------\n",
      "0.78\n",
      "    - Bitstring: 111 (Probability: 0.7812)\n",
      "{'111': np.float64(0.7812499999999983)}\n",
      "\n",
      "Run complete.\n"
     ]
    }
   ],
   "source": [
    "import os\n",
    "import time\n",
    "from qiskit.circuit.library import PhaseOracle\n",
    "from qiskit_algorithms import AmplificationProblem, Grover\n",
    "from qiskit.primitives import Sampler\n",
    "from qiskit.visualization import plot_histogram\n",
    "import matplotlib.pyplot as plt\n",
    "\n",
    "# --- Function to solve a single DIMACS file ---\n",
    "def solve_dimacs_with_grover(filepath):\n",
    "    \"\"\"\n",
    "    Solves a SAT problem from a DIMACS CNF file using Grover's algorithm.\n",
    "    \"\"\"\n",
    "    print(f\"--- Solving: {os.path.basename(filepath)} ---\")\n",
    "    \n",
    "    # 1. Create the oracle from the DIMACS file\n",
    "    try:\n",
    "        oracle = PhaseOracle.from_dimacs_file(filepath)\n",
    "    except Exception as e:\n",
    "        print(f\"  Error creating oracle: {e}\")\n",
    "        return\n",
    "\n",
    "    # 2. Define the amplification problem for Grover's algorithm\n",
    "    problem = AmplificationProblem(oracle, is_good_state=oracle.evaluate_bitstring)\n",
    "\n",
    "    # 3. Instantiate Grover's algorithm with a local sampler\n",
    "    grover = Grover(sampler=Sampler())\n",
    "\n",
    "    # 4. Run the algorithm to find a solution\n",
    "    start_time = time.time()\n",
    "    result = grover.amplify(problem)\n",
    "    end_time = time.time()\n",
    "    duration = end_time - start_time\n",
    "    print(f\"  Algorithm finished in {duration:.4f} seconds.\")\n",
    "    \n",
    "    # 5. Plot the results as a histogram\n",
    "    print(\"  Plotting results...\")\n",
    "    # The circuit_results attribute contains the data from the sampler.\n",
    "    # We plot the first (and only) result from the list.\n",
    "    if result.circuit_results:\n",
    "        display(plot_histogram(result.circuit_results[0]))\n",
    "    else:\n",
    "        print(\"  No circuit results to plot.\")\n",
    "    print(\"-\" * (len(os.path.basename(filepath)) + 14))\n",
    "    sorted_results = sorted(result.circuit_results[0].items(), key=lambda item: item[1], reverse=True)\n",
    "    # first_result = round(sorted_results[0][1], 2) if sorted_results else (None, 0)\n",
    "    top_measurement = round(sorted_results[0][1], 2) if sorted_results else None\n",
    "    print(top_measurement)\n",
    "    filtered_results = {\n",
    "                k: v for k, v in sorted_results if round(v, 2) == top_measurement\n",
    "            }\n",
    "    for bitstring, probability in filtered_results.items():\n",
    "        print(f\"    - Bitstring: {bitstring} (Probability: {probability:.4f})\")\n",
    "    print(filtered_results)\n",
    "\n",
    "# --- Main execution ---\n",
    "# Specify the single DIMACS file you want to solve\n",
    "target_file = 'tests/test_unit.cnf' # <--- CHANGE THIS FILENAME TO RUN A DIFFERENT TEST\n",
    "\n",
    "print(f\"Attempting to solve '{target_file}'...\")\n",
    "\n",
    "if os.path.exists(target_file):\n",
    "    solve_dimacs_with_grover(target_file)\n",
    "else:\n",
    "    print(f\"Error: File '{target_file}' not found.\")\n",
    "\n",
    "print(\"\\nRun complete.\")"
   ]
  },
  {
   "cell_type": "code",
   "execution_count": 74,
   "id": "8b5b13d8",
   "metadata": {},
   "outputs": [
    {
     "name": "stdout",
     "output_type": "stream",
     "text": [
      "Attempting to solve 'tests/test_unit.cnf'...\n",
      "--- Solving: test_unit.cnf ---\n",
      "  Ideal circuit depth: 4, Ops: OrderedDict([('h', 3), ('measure', 3), ('Q', 2)])\n",
      "  (For analysis, constructing a sample circuit with 2 Grover iteration(s))\n",
      "  Transpiling circuit for 'ibm_torino'...\n",
      "  Transpiled (ISA) circuit depth: 159, Ops: OrderedDict([('sx', 89), ('rz', 80), ('cz', 48), ('measure', 3), ('x', 2)])\n",
      "  Submitting job to backend...\n",
      "  > Job ID: d2od7hlt2ras73bc2hc0\n",
      "  Job finished in 5.8880 seconds.\n",
      "DataBin(c46=BitArray(<shape=(), num_shots=4096, num_bits=3>))\n",
      "{'111': 3087, '110': 208, '011': 163, '001': 85, '010': 115, '100': 149, '000': 143, '101': 146}\n",
      "\n",
      "Run complete.\n"
     ]
    }
   ],
   "source": [
    "# incercare de a rula pe backend dar face cam urat \n",
    "import os\n",
    "import time\n",
    "from qiskit.circuit.library import PhaseOracle\n",
    "from qiskit_algorithms import AmplificationProblem, Grover\n",
    "from qiskit.primitives import Sampler\n",
    "from qiskit.visualization import plot_histogram\n",
    "import matplotlib.pyplot as plt\n",
    "from qiskit.transpiler import generate_preset_pass_manager\n",
    "# from qiskit_algorithms import optimal_num_iterations\n",
    "\n",
    "# --- Function to solve a single DIMACS file ---\n",
    "def solve_dimacs_with_grover(filepath):\n",
    "    \"\"\"\n",
    "    Solves a SAT problem from a DIMACS CNF file using Grover's algorithm.\n",
    "    \"\"\"\n",
    "    print(f\"--- Solving: {os.path.basename(filepath)} ---\")\n",
    "    \n",
    "    # 1. Create the oracle from the DIMACS file\n",
    "    try:\n",
    "        oracle = PhaseOracle.from_dimacs_file(filepath)\n",
    "    except Exception as e:\n",
    "        print(f\"  Error creating oracle: {e}\")\n",
    "        return\n",
    "\n",
    "    # 2. Define the amplification problem for Grover's algorithm\n",
    "    problem = AmplificationProblem(oracle, is_good_state=oracle.evaluate_bitstring)\n",
    "\n",
    "    # 3. Instantiate Grover's algorithm with a local sampler\n",
    "    power = 2\n",
    "    grover_op = Grover()\n",
    "    circuit = grover_op.construct_circuit(problem, power=power, measurement=True)\n",
    "    print(f\"  Ideal circuit depth: {circuit.depth()}, Ops: {circuit.count_ops()}\")\n",
    "\n",
    "    # Construct the full Grover circuit to see its complexity\n",
    "    # To construct a circuit for analysis, we must specify the number of iterations ('power').\n",
    "    # We'll calculate the optimal number assuming there is 1 solution.\n",
    "    # power = optimal_num_iterations(num_solutions=1, num_qubits=problem.oracle.num_qubits)\n",
    "    print(f\"  (For analysis, constructing a sample circuit with {power} Grover iteration(s))\")\n",
    "    \n",
    "    # CORRECTED: Pass the 'power' argument to construct_circuit\n",
    "    print(f\"  Transpiling circuit for '{backend.name}'...\")\n",
    "    pm = generate_preset_pass_manager(optimization_level=1, backend=backend)\n",
    "    isa_circuit = pm.run(circuit)\n",
    "    print(f\"  Transpiled (ISA) circuit depth: {isa_circuit.depth()}, Ops: {isa_circuit.count_ops()}\")\n",
    "\n",
    "\n",
    "    # 4. Run the algorithm to find a solution\n",
    "    print(\"  Submitting job to backend...\")\n",
    "    start_time = time.time()\n",
    "    job = sampler.run([isa_circuit])\n",
    "    print(f\"  > Job ID: {job.job_id()}\")\n",
    "    result = job.result()\n",
    "    end_time = time.time()\n",
    "    duration = end_time - start_time\n",
    "    print(f\"  Job finished in {duration:.4f} seconds.\")\n",
    "    \n",
    "\n",
    "    pub_result = result[0]\n",
    "    counts = pub_result.data\n",
    "    print(counts)\n",
    "    bitarray = next(iter(counts.values()))\n",
    "    print(bitarray.get_counts())\n",
    "    # # 5. Plot the results as a histogram\n",
    "    # print(\"  Plotting results...\")\n",
    "    # # The circuit_results attribute contains the data from the sampler.\n",
    "    # # We plot the first (and only) result from the list.\n",
    "    # if result.circuit_results:\n",
    "    #     display(plot_histogram(result.circuit_results[0]))\n",
    "    # else:\n",
    "    #     print(\"  No circuit results to plot.\")\n",
    "    # print(\"-\" * (len(os.path.basename(filepath)) + 14))\n",
    "    # sorted_results = sorted(result.circuit_results[0].items(), key=lambda item: item[1], reverse=True)\n",
    "    # # first_result = round(sorted_results[0][1], 2) if sorted_results else (None, 0)\n",
    "    # top_measurement = round(sorted_results[0][1], 2) if sorted_results else None\n",
    "    # print(top_measurement)\n",
    "    # filtered_results = {\n",
    "    #             k: v for k, v in sorted_results if round(v, 2) == top_measurement\n",
    "    #         }\n",
    "    # for bitstring, probability in filtered_results.items():\n",
    "    #     print(f\"    - Bitstring: {bitstring} (Probability: {probability:.4f})\")\n",
    "    # print(filtered_results)\n",
    "\n",
    "# --- Main execution ---\n",
    "# Specify the single DIMACS file you want to solve\n",
    "target_file = 'tests/test_unit.cnf' # <--- CHANGE THIS FILENAME TO RUN A DIFFERENT TEST\n",
    "\n",
    "print(f\"Attempting to solve '{target_file}'...\")\n",
    "\n",
    "if os.path.exists(target_file):\n",
    "    solve_dimacs_with_grover(target_file)\n",
    "else:\n",
    "    print(f\"Error: File '{target_file}' not found.\")\n",
    "\n",
    "print(\"\\nRun complete.\")"
   ]
  }
 ],
 "metadata": {
  "kernelspec": {
   "display_name": "quantum",
   "language": "python",
   "name": "python3"
  },
  "language_info": {
   "codemirror_mode": {
    "name": "ipython",
    "version": 3
   },
   "file_extension": ".py",
   "mimetype": "text/x-python",
   "name": "python",
   "nbconvert_exporter": "python",
   "pygments_lexer": "ipython3",
   "version": "3.10.18"
  }
 },
 "nbformat": 4,
 "nbformat_minor": 5
}
